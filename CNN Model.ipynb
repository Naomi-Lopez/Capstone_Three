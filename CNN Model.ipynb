{
 "cells": [
  {
   "cell_type": "code",
   "execution_count": 23,
   "id": "9f68e11d",
   "metadata": {},
   "outputs": [],
   "source": [
    "import os\n",
    "import cv2\n",
    "import numpy as np\n",
    "import tensorflow as tf \n",
    "from sklearn.preprocessing import LabelEncoder\n",
    "from tensorflow.keras.utils import to_categorical\n",
    "from tensorflow.keras.preprocessing.image import ImageDataGenerator\n",
    "from tensorflow.keras.models import Sequential\n",
    "from tensorflow.keras.layers import Conv2D, MaxPooling2D, Flatten, Dense, Dropout\n",
    "from tensorflow.keras.callbacks import EarlyStopping\n",
    "from tensorflow.keras.applications import MobileNet\n",
    "import matplotlib.pyplot as plt\n",
    "from tensorflow.keras.applications import VGG16\n",
    "from sklearn.utils import class_weight\n",
    "from tensorflow.keras.optimizers import Adam \n",
    "from sklearn.metrics import confusion_matrix, classification_report"
   ]
  },
  {
   "cell_type": "markdown",
   "id": "dd070c3d",
   "metadata": {},
   "source": [
    "### Loading Data "
   ]
  },
  {
   "cell_type": "code",
   "execution_count": 2,
   "id": "b8dd2ee4",
   "metadata": {},
   "outputs": [],
   "source": [
    "def load_data(directory):\n",
    "    images = []\n",
    "    labels = []\n",
    "    \n",
    "    for class_name in os.listdir(directory):\n",
    "        class_path = os.path.join(directory, class_name)\n",
    "\n",
    "        # Check if class_path is a directory\n",
    "        if not os.path.isdir(class_path):\n",
    "            print(f\"Skipping non-directory: {class_path}\")\n",
    "            continue\n",
    "        \n",
    "        images_path = os.path.join(class_path, 'images')\n",
    "        labels_path = os.path.join(class_path, 'labels')\n",
    "\n",
    "        # Check if both images and labels directories exist\n",
    "        if not os.path.isdir(images_path) or not os.path.isdir(labels_path):\n",
    "            print(f\"Invalid directory structure in {class_path}. Skipping.\")\n",
    "            continue\n",
    "        \n",
    "        # Use class_name as the category label\n",
    "        category_label = class_name \n",
    "        \n",
    "        # Loop through each image in the images directory\n",
    "        for image in os.listdir(images_path):\n",
    "            if image.startswith('.'):  # Skip hidden files\n",
    "                continue\n",
    "\n",
    "            img_path = os.path.join(images_path, image)\n",
    "            img = cv2.imread(img_path)\n",
    "            if img is None:\n",
    "                print(f\"Failed to load image {image}, skipping.\")\n",
    "                continue\n",
    "            \n",
    "            # Resize the image to (224 x 224)\n",
    "            img = cv2.resize(img, (224, 224))\n",
    "\n",
    "            # Convert to RGB if it's grayscale\n",
    "            if img.ndim == 2:  # If the image is grayscale (2D)\n",
    "                img = cv2.cvtColor(img, cv2.COLOR_GRAY2RGB)  # Convert to 3 channels (RGB)\n",
    "\n",
    "            # Append image and label\n",
    "            images.append(img)\n",
    "            labels.append(category_label)  # Append the category label\n",
    "\n",
    "    return np.array(images), np.array(labels)\n",
    "\n",
    "\n",
    "# Data generator with explicit type conversion\n",
    "import time\n",
    "\n",
    "def my_generator(images, labels, batch_size):\n",
    "    num_samples = len(images)\n",
    "    while True:  # Loop indefinitely\n",
    "        for offset in range(0, num_samples, batch_size):\n",
    "            batch_images = images[offset:offset + batch_size]\n",
    "            batch_labels = labels[offset:offset + batch_size]\n",
    "\n",
    "            # Start timing\n",
    "            start_time = time.time()\n",
    "\n",
    "            # Preprocess images here (e.g., resizing, normalization)\n",
    "            processed_images = preprocess_images(batch_images) \n",
    "\n",
    "            # End timing\n",
    "            end_time = time.time()\n",
    "            elapsed_time = end_time - start_time\n",
    "\n",
    "            # Log the time taken for each batch\n",
    "            print(f\"Time taken to process batch {offset // batch_size}: {elapsed_time:.4f} seconds\")\n",
    "\n",
    "            yield processed_images, batch_labels\n",
    "\n",
    "\n",
    "\n",
    "\n"
   ]
  },
  {
   "cell_type": "code",
   "execution_count": 3,
   "id": "19e8cb25",
   "metadata": {},
   "outputs": [
    {
     "name": "stdout",
     "output_type": "stream",
     "text": [
      "Skipping non-directory: /Users/NaomiLopez/Documents/Springboard/Projects/Capstone_Three/data/Train/.DS_Store\n",
      "Skipping non-directory: /Users/NaomiLopez/Documents/Springboard/Projects/Capstone_Three/data/Val/.DS_Store\n"
     ]
    }
   ],
   "source": [
    "# Paths to data directories\n",
    "train_path = '/Users/NaomiLopez/Documents/Springboard/Projects/Capstone_Three/data/Train'\n",
    "val_path = '/Users/NaomiLopez/Documents/Springboard/Projects/Capstone_Three/data/Val'\n",
    "\n",
    "# Load training and validation data\n",
    "train_images, train_labels = load_data(train_path)\n",
    "val_images, val_labels = load_data(val_path)\n",
    "\n",
    "# Scale images to [0, 1]\n",
    "train_images_np = train_images.astype(np.float32) / 255.0\n",
    "val_images_np = val_images.astype(np.float32) / 255.0\n",
    "\n"
   ]
  },
  {
   "cell_type": "markdown",
   "id": "b88014b7",
   "metadata": {},
   "source": [
    "### Encoding Classes \n",
    "\n",
    "4 classes in total: Glioma, Meningioma, Pituitary, No Tumor"
   ]
  },
  {
   "cell_type": "code",
   "execution_count": 4,
   "id": "ca405b7d",
   "metadata": {},
   "outputs": [],
   "source": [
    "# One-hot encode labels\n",
    "label_encoder = LabelEncoder()\n",
    "train_labels_encoded = label_encoder.fit_transform(train_labels)\n",
    "val_labels_encoded = label_encoder.transform(val_labels)\n",
    "\n",
    "#Get number of unique classes \n",
    "num_classes = len(np.unique(train_labels_encoded))  \n",
    "\n",
    "\n",
    "# One-hot encoding for multi-class classification (ensure float32 type)\n",
    "train_labels_categorical = to_categorical(train_labels_encoded, num_classes=num_classes).astype(np.float32)\n",
    "val_labels_categorical = to_categorical(val_labels_encoded, num_classes=num_classes).astype(np.float32)\n"
   ]
  },
  {
   "cell_type": "markdown",
   "id": "09522430",
   "metadata": {},
   "source": [
    "### Data Augmentation: as seen in cleaning/EDA notebook"
   ]
  },
  {
   "cell_type": "code",
   "execution_count": 5,
   "id": "22ba316b",
   "metadata": {},
   "outputs": [
    {
     "name": "stdout",
     "output_type": "stream",
     "text": [
      "Train labels shape: (3670, 4), dtype: float32\n",
      "Validation labels shape: (512, 4), dtype: float32\n"
     ]
    },
    {
     "data": {
      "image/png": "[encoded data removed]",
      "text/plain": [
       "<Figure size 640x480 with 1 Axes>"
      ]
     },
     "metadata": {},
     "output_type": "display_data"
    }
   ],
   "source": [
    "# Data augmentation\n",
    "datagen = ImageDataGenerator(rescale=1.0/255.0)\n",
    "\n",
    "# One-hot encode labels and ensure they are of type float32\n",
    "train_labels_categorical = to_categorical(train_labels_encoded, num_classes=num_classes).astype(np.float32)\n",
    "val_labels_categorical = to_categorical(val_labels_encoded, num_classes=num_classes).astype(np.float32)\n",
    "\n",
    "print(f'Train labels shape: {train_labels_categorical.shape}, dtype: {train_labels_categorical.dtype}')\n",
    "print(f'Validation labels shape: {val_labels_categorical.shape}, dtype: {val_labels_categorical.dtype}')\n",
    "\n",
    "train_generator = datagen.flow(train_images_np, train_labels_categorical, batch_size=32)\n",
    "val_generator = datagen.flow(val_images_np, val_labels_categorical, batch_size=32)\n",
    "\n",
    "# Check class distribution in training data\n",
    "unique, counts = np.unique(train_labels_encoded, return_counts=True)  # Use the encoded labels\n",
    "class_distribution = dict(zip(unique, counts))\n",
    "\n",
    "# Plot class distribution\n",
    "plt.bar(class_distribution.keys(), class_distribution.values())\n",
    "plt.xlabel('Class Labels')\n",
    "plt.ylabel('Number of Samples')\n",
    "plt.title('Class Distribution')\n",
    "plt.show()\n",
    "\n",
    "# Compute class weights to address imbalance\n",
    "class_weights = class_weight.compute_class_weight(\n",
    "    'balanced',\n",
    "    classes=np.unique(train_labels_encoded),\n",
    "    y=train_labels_encoded\n",
    ")\n",
    "class_weight_dict = {i: class_weights[i] for i in range(len(class_weights))}\n"
   ]
  },
  {
   "cell_type": "markdown",
   "id": "5bf44040",
   "metadata": {},
   "source": [
    "### Building CNN Model"
   ]
  },
  {
   "cell_type": "code",
   "execution_count": 11,
   "id": "c559162f",
   "metadata": {},
   "outputs": [
    {
     "name": "stderr",
     "output_type": "stream",
     "text": [
      "/var/folders/7j/32pl6tv92ng7gvr5j2ky1m_w0000gn/T/ipykernel_79939/2190843633.py:8: UserWarning: `input_shape` is undefined or non-square, or `rows` is not in [128, 160, 192, 224]. Weights for input shape (224, 224) will be loaded as the default.\n",
      "  base_model = MobileNet(weights='imagenet', include_top=False)\n"
     ]
    },
    {
     "name": "stdout",
     "output_type": "stream",
     "text": [
      "Epoch 1/10\n"
     ]
    },
    {
     "name": "stderr",
     "output_type": "stream",
     "text": [
      "/Users/NaomiLopez/anaconda3/lib/python3.11/site-packages/keras/src/trainers/data_adapters/py_dataset_adapter.py:121: UserWarning: Your `PyDataset` class should call `super().__init__(**kwargs)` in its constructor. `**kwargs` can include `workers`, `use_multiprocessing`, `max_queue_size`. Do not pass these arguments to `fit()`, as they will be ignored.\n",
      "  self._warn_if_super_not_called()\n"
     ]
    },
    {
     "name": "stdout",
     "output_type": "stream",
     "text": [
      "\u001b[1m115/115\u001b[0m \u001b[32m━━━━━━━━━━━━━━━━━━━━\u001b[0m\u001b[37m\u001b[0m \u001b[1m358s\u001b[0m 3s/step - accuracy: 0.7868 - loss: 0.8391 - val_accuracy: 0.1953 - val_loss: 3.0346\n",
      "Epoch 2/10\n",
      "\u001b[1m115/115\u001b[0m \u001b[32m━━━━━━━━━━━━━━━━━━━━\u001b[0m\u001b[37m\u001b[0m \u001b[1m341s\u001b[0m 3s/step - accuracy: 0.9558 - loss: 0.1224 - val_accuracy: 0.1953 - val_loss: 4.5989\n",
      "Epoch 3/10\n",
      "\u001b[1m115/115\u001b[0m \u001b[32m━━━━━━━━━━━━━━━━━━━━\u001b[0m\u001b[37m\u001b[0m \u001b[1m319s\u001b[0m 3s/step - accuracy: 0.9746 - loss: 0.0775 - val_accuracy: 0.2090 - val_loss: 4.8875\n",
      "Epoch 4/10\n",
      "\u001b[1m115/115\u001b[0m \u001b[32m━━━━━━━━━━━━━━━━━━━━\u001b[0m\u001b[37m\u001b[0m \u001b[1m324s\u001b[0m 3s/step - accuracy: 0.9830 - loss: 0.0547 - val_accuracy: 0.4805 - val_loss: 3.0448\n"
     ]
    }
   ],
   "source": [
    "import tensorflow as tf\n",
    "from tensorflow.keras.models import Sequential\n",
    "from tensorflow.keras.layers import Flatten, Dense, Dropout, Input\n",
    "from tensorflow.keras.applications import MobileNet\n",
    "from tensorflow.keras.callbacks import EarlyStopping, ModelCheckpoint\n",
    "\n",
    "# Define the model using MobileNet\n",
    "base_model = MobileNet(weights='imagenet', include_top=False)\n",
    "\n",
    "# Build the Sequential model\n",
    "model = Sequential()\n",
    "model.add(Input(shape=(224, 224, 3)))  # Input layer\n",
    "model.add(base_model)  # Add the pre-trained MobileNet model\n",
    "model.add(Flatten())   # Flatten the output of the base model\n",
    "model.add(Dense(128, activation='relu'))  # Add a fully connected layer\n",
    "model.add(Dropout(0.5))  # Add dropout for regularization\n",
    "model.add(Dense(num_classes, activation='softmax'))  # Output layer for multi-class classification\n",
    "\n",
    "# Compile the model\n",
    "model.compile(optimizer=tf.keras.optimizers.Adam(learning_rate=1e-4), \n",
    "              loss='categorical_crossentropy', \n",
    "              metrics=['accuracy'])\n",
    "\n",
    "# Callbacks for monitoring training\n",
    "checkpoint = ModelCheckpoint('best_model.keras', monitor='val_loss', save_best_only=True)\n",
    "early_stopping = EarlyStopping(monitor='val_loss', patience=3, restore_best_weights=True)\n",
    "\n",
    "# Train the model using train_generator and val_generator\n",
    "history = model.fit(\n",
    "    train_generator,\n",
    "    validation_data=val_generator,\n",
    "    epochs=10,  \n",
    "    callbacks=[checkpoint, early_stopping]\n",
    ")\n"
   ]
  },
  {
   "cell_type": "code",
   "execution_count": 12,
   "id": "9e03f74f",
   "metadata": {},
   "outputs": [
    {
     "data": {
      "text/html": [
       "<pre style=\"white-space:pre;overflow-x:auto;line-height:normal;font-family:Menlo,'DejaVu Sans Mono',consolas,'Courier New',monospace\"><span style=\"font-weight: bold\">Model: \"sequential_5\"</span>\n",
       "</pre>\n"
      ],
      "text/plain": [
       "\u001b[1mModel: \"sequential_5\"\u001b[0m\n"
      ]
     },
     "metadata": {},
     "output_type": "display_data"
    },
    {
     "data": {
      "text/html": [
       "<pre style=\"white-space:pre;overflow-x:auto;line-height:normal;font-family:Menlo,'DejaVu Sans Mono',consolas,'Courier New',monospace\">┏━━━━━━━━━━━━━━━━━━━━━━━━━━━━━━━━━┳━━━━━━━━━━━━━━━━━━━━━━━━┳━━━━━━━━━━━━━━━┓\n",
       "┃<span style=\"font-weight: bold\"> Layer (type)                    </span>┃<span style=\"font-weight: bold\"> Output Shape           </span>┃<span style=\"font-weight: bold\">       Param # </span>┃\n",
       "┡━━━━━━━━━━━━━━━━━━━━━━━━━━━━━━━━━╇━━━━━━━━━━━━━━━━━━━━━━━━╇━━━━━━━━━━━━━━━┩\n",
       "│ mobilenet_1.00_224 (<span style=\"color: #0087ff; text-decoration-color: #0087ff\">Functional</span>) │ (<span style=\"color: #00d7ff; text-decoration-color: #00d7ff\">None</span>, <span style=\"color: #00af00; text-decoration-color: #00af00\">7</span>, <span style=\"color: #00af00; text-decoration-color: #00af00\">7</span>, <span style=\"color: #00af00; text-decoration-color: #00af00\">1024</span>)     │     <span style=\"color: #00af00; text-decoration-color: #00af00\">3,228,864</span> │\n",
       "├─────────────────────────────────┼────────────────────────┼───────────────┤\n",
       "│ flatten_5 (<span style=\"color: #0087ff; text-decoration-color: #0087ff\">Flatten</span>)             │ (<span style=\"color: #00d7ff; text-decoration-color: #00d7ff\">None</span>, <span style=\"color: #00af00; text-decoration-color: #00af00\">50176</span>)          │             <span style=\"color: #00af00; text-decoration-color: #00af00\">0</span> │\n",
       "├─────────────────────────────────┼────────────────────────┼───────────────┤\n",
       "│ dense_9 (<span style=\"color: #0087ff; text-decoration-color: #0087ff\">Dense</span>)                 │ (<span style=\"color: #00d7ff; text-decoration-color: #00d7ff\">None</span>, <span style=\"color: #00af00; text-decoration-color: #00af00\">128</span>)            │     <span style=\"color: #00af00; text-decoration-color: #00af00\">6,422,656</span> │\n",
       "├─────────────────────────────────┼────────────────────────┼───────────────┤\n",
       "│ dropout_19 (<span style=\"color: #0087ff; text-decoration-color: #0087ff\">Dropout</span>)            │ (<span style=\"color: #00d7ff; text-decoration-color: #00d7ff\">None</span>, <span style=\"color: #00af00; text-decoration-color: #00af00\">128</span>)            │             <span style=\"color: #00af00; text-decoration-color: #00af00\">0</span> │\n",
       "├─────────────────────────────────┼────────────────────────┼───────────────┤\n",
       "│ dense_10 (<span style=\"color: #0087ff; text-decoration-color: #0087ff\">Dense</span>)                │ (<span style=\"color: #00d7ff; text-decoration-color: #00d7ff\">None</span>, <span style=\"color: #00af00; text-decoration-color: #00af00\">4</span>)              │           <span style=\"color: #00af00; text-decoration-color: #00af00\">516</span> │\n",
       "└─────────────────────────────────┴────────────────────────┴───────────────┘\n",
       "</pre>\n"
      ],
      "text/plain": [
       "┏━━━━━━━━━━━━━━━━━━━━━━━━━━━━━━━━━┳━━━━━━━━━━━━━━━━━━━━━━━━┳━━━━━━━━━━━━━━━┓\n",
       "┃\u001b[1m \u001b[0m\u001b[1mLayer (type)                   \u001b[0m\u001b[1m \u001b[0m┃\u001b[1m \u001b[0m\u001b[1mOutput Shape          \u001b[0m\u001b[1m \u001b[0m┃\u001b[1m \u001b[0m\u001b[1m      Param #\u001b[0m\u001b[1m \u001b[0m┃\n",
       "┡━━━━━━━━━━━━━━━━━━━━━━━━━━━━━━━━━╇━━━━━━━━━━━━━━━━━━━━━━━━╇━━━━━━━━━━━━━━━┩\n",
       "│ mobilenet_1.00_224 (\u001b[38;5;33mFunctional\u001b[0m) │ (\u001b[38;5;45mNone\u001b[0m, \u001b[38;5;34m7\u001b[0m, \u001b[38;5;34m7\u001b[0m, \u001b[38;5;34m1024\u001b[0m)     │     \u001b[38;5;34m3,228,864\u001b[0m │\n",
       "├─────────────────────────────────┼────────────────────────┼───────────────┤\n",
       "│ flatten_5 (\u001b[38;5;33mFlatten\u001b[0m)             │ (\u001b[38;5;45mNone\u001b[0m, \u001b[38;5;34m50176\u001b[0m)          │             \u001b[38;5;34m0\u001b[0m │\n",
       "├─────────────────────────────────┼────────────────────────┼───────────────┤\n",
       "│ dense_9 (\u001b[38;5;33mDense\u001b[0m)                 │ (\u001b[38;5;45mNone\u001b[0m, \u001b[38;5;34m128\u001b[0m)            │     \u001b[38;5;34m6,422,656\u001b[0m │\n",
       "├─────────────────────────────────┼────────────────────────┼───────────────┤\n",
       "│ dropout_19 (\u001b[38;5;33mDropout\u001b[0m)            │ (\u001b[38;5;45mNone\u001b[0m, \u001b[38;5;34m128\u001b[0m)            │             \u001b[38;5;34m0\u001b[0m │\n",
       "├─────────────────────────────────┼────────────────────────┼───────────────┤\n",
       "│ dense_10 (\u001b[38;5;33mDense\u001b[0m)                │ (\u001b[38;5;45mNone\u001b[0m, \u001b[38;5;34m4\u001b[0m)              │           \u001b[38;5;34m516\u001b[0m │\n",
       "└─────────────────────────────────┴────────────────────────┴───────────────┘\n"
      ]
     },
     "metadata": {},
     "output_type": "display_data"
    },
    {
     "data": {
      "text/html": [
       "<pre style=\"white-space:pre;overflow-x:auto;line-height:normal;font-family:Menlo,'DejaVu Sans Mono',consolas,'Courier New',monospace\"><span style=\"font-weight: bold\"> Total params: </span><span style=\"color: #00af00; text-decoration-color: #00af00\">28,912,334</span> (110.29 MB)\n",
       "</pre>\n"
      ],
      "text/plain": [
       "\u001b[1m Total params: \u001b[0m\u001b[38;5;34m28,912,334\u001b[0m (110.29 MB)\n"
      ]
     },
     "metadata": {},
     "output_type": "display_data"
    },
    {
     "data": {
      "text/html": [
       "<pre style=\"white-space:pre;overflow-x:auto;line-height:normal;font-family:Menlo,'DejaVu Sans Mono',consolas,'Courier New',monospace\"><span style=\"font-weight: bold\"> Trainable params: </span><span style=\"color: #00af00; text-decoration-color: #00af00\">9,630,148</span> (36.74 MB)\n",
       "</pre>\n"
      ],
      "text/plain": [
       "\u001b[1m Trainable params: \u001b[0m\u001b[38;5;34m9,630,148\u001b[0m (36.74 MB)\n"
      ]
     },
     "metadata": {},
     "output_type": "display_data"
    },
    {
     "data": {
      "text/html": [
       "<pre style=\"white-space:pre;overflow-x:auto;line-height:normal;font-family:Menlo,'DejaVu Sans Mono',consolas,'Courier New',monospace\"><span style=\"font-weight: bold\"> Non-trainable params: </span><span style=\"color: #00af00; text-decoration-color: #00af00\">21,888</span> (85.50 KB)\n",
       "</pre>\n"
      ],
      "text/plain": [
       "\u001b[1m Non-trainable params: \u001b[0m\u001b[38;5;34m21,888\u001b[0m (85.50 KB)\n"
      ]
     },
     "metadata": {},
     "output_type": "display_data"
    },
    {
     "data": {
      "text/html": [
       "<pre style=\"white-space:pre;overflow-x:auto;line-height:normal;font-family:Menlo,'DejaVu Sans Mono',consolas,'Courier New',monospace\"><span style=\"font-weight: bold\"> Optimizer params: </span><span style=\"color: #00af00; text-decoration-color: #00af00\">19,260,298</span> (73.47 MB)\n",
       "</pre>\n"
      ],
      "text/plain": [
       "\u001b[1m Optimizer params: \u001b[0m\u001b[38;5;34m19,260,298\u001b[0m (73.47 MB)\n"
      ]
     },
     "metadata": {},
     "output_type": "display_data"
    }
   ],
   "source": [
    "model.summary()"
   ]
  },
  {
   "cell_type": "markdown",
   "id": "049c5900",
   "metadata": {},
   "source": [
    "### Evaluating Model Performance\n"
   ]
  },
  {
   "cell_type": "code",
   "execution_count": 14,
   "id": "5f09089f",
   "metadata": {},
   "outputs": [
    {
     "name": "stdout",
     "output_type": "stream",
     "text": [
      "\u001b[1m16/16\u001b[0m \u001b[32m━━━━━━━━━━━━━━━━━━━━\u001b[0m\u001b[37m\u001b[0m \u001b[1m8s\u001b[0m 503ms/step - accuracy: 0.1922 - loss: 3.0401\n",
      "Validation Loss: 3.0346\n",
      "Validation Accuracy: 0.1953\n"
     ]
    }
   ],
   "source": [
    "val_loss, val_accuracy = model.evaluate(val_generator, steps=len(val_images_np) // 32)\n",
    "print(f\"Validation Loss: {val_loss:.4f}\")\n",
    "print(f\"Validation Accuracy: {val_accuracy:.4f}\")"
   ]
  },
  {
   "cell_type": "markdown",
   "id": "164deda0",
   "metadata": {},
   "source": [
    "#### Interpretation of Model Performance\n",
    "\n",
    "Low Accuracy: An accuracy of around 19.2% to 19.5% indicates that the model is not performing well on the validation set. \n",
    "\n",
    "High Loss: A loss value of around 3.04 also suggests that the model is struggling to learn the patterns in the validation data. This could be due to various factors, such as:\n",
    "\n",
    "The model may be too complex for the amount of training data available, leading to overfitting.\n",
    "The model might not be complex enough to capture the underlying patterns in the data (underfitting).\n",
    "The training process (e.g., learning rate, batch size) might need adjustment.\n",
    "Data preprocessing or augmentation might need improvement."
   ]
  },
  {
   "cell_type": "markdown",
   "id": "8da5c20b",
   "metadata": {},
   "source": [
    "#### Improvement: \n",
    "\n",
    "- More Training: Train the model for more epochs to see if accuracy improves. Monitor training and validation accuracy/loss to avoid overfitting.\n",
    "\n",
    "- Data Augmentation: Implement data augmentation techniques to increase the diversity of the training set and prevent overfitting.\n",
    "\n",
    "- Hyperparameter Tuning: Experiment with different learning rates, batch sizes, and model architectures to find the optimal configuration.\n",
    "\n",
    "- Model Complexity: Adjust the complexity of the model. I could add or remove layers, change the number of filters, or adjust the activation functions.\n",
    "\n",
    "- Regularization Techniques: Implement dropout or other regularization techniques to prevent overfitting.\n",
    "\n",
    "- Learning Rate Scheduling: Consider using learning rate schedules or callbacks to adjust the learning rate dynamically during training.\n",
    "\n",
    "- Transfer Learning: I attempted to use transfer leanrning with VGG16 but the amount of storage and power of my compputer was too low to handle this method. \n",
    "\n",
    "- Check Data Quality: Ensure that the labels are correct and that there’s no data leakage between training and validation sets."
   ]
  },
  {
   "cell_type": "code",
   "execution_count": 21,
   "id": "a53a6f55",
   "metadata": {},
   "outputs": [
    {
     "name": "stdout",
     "output_type": "stream",
     "text": [
      "\u001b[1m16/16\u001b[0m \u001b[32m━━━━━━━━━━━━━━━━━━━━\u001b[0m\u001b[37m\u001b[0m \u001b[1m9s\u001b[0m 511ms/step\n",
      "Predicted classes: [2 2 2 2 2 2 2 2 2 2 2 2 2 2 2 2 2 2 2 2 2 2 2 2 2 2 2 2 2 2 2 2 2 2 2 2 2\n",
      " 2 2 2 2 2 2 2 2 2 2 2 2 2 2 2 2 2 2 2 2 2 2 2 2 2 2 2 2 2 2 2 2 2 2 2 2 2\n",
      " 2 2 2 2 2 2 2 2 2 2 2 2 2 2 2 2 2 2 2 2 2 2 2 2 2 2 2 2 2 2 2 2 2 2 2 2 2\n",
      " 2 2 2 2 2 2 2 2 2 2 2 2 2 2 2 2 2 2 2 2 2 2 2 2 2 2 2 2 2 2 2 2 2 2 2 2 2\n",
      " 2 2 2 2 2 2 2 2 2 2 2 2 2 2 2 2 2 2 2 2 2 2 2 2 2 2 2 2 2 2 2 2 2 2 2 2 2\n",
      " 2 2 2 2 2 2 2 2 2 2 2 2 2 2 2 2 2 2 2 2 2 2 2 2 2 2 2 2 2 2 2 2 2 2 2 2 2\n",
      " 2 2 2 2 2 2 2 2 2 2 2 2 2 2 2 2 2 2 2 2 2 2 2 2 2 2 2 2 2 2 2 2 2 2 2 2 2\n",
      " 2 2 2 2 2 2 2 2 2 2 2 2 2 2 2 2 2 2 2 2 2 2 2 2 2 2 2 2 2 2 2 2 2 2 2 2 2\n",
      " 2 2 2 2 2 2 2 2 2 2 2 2 2 2 2 2 2 2 2 2 2 2 2 2 2 2 2 2 2 2 2 2 2 2 2 2 2\n",
      " 2 2 2 2 2 2 2 2 2 2 2 2 2 2 2 2 2 2 2 2 2 2 2 2 2 2 2 2 2 2 2 2 2 2 2 2 2\n",
      " 2 2 2 2 2 2 2 2 2 2 2 2 2 2 2 2 2 2 2 2 2 2 2 2 2 2 2 2 2 2 2 2 2 2 2 2 2\n",
      " 2 2 2 2 2 2 2 2 2 2 2 2 2 2 2 2 2 2 2 2 2 2 2 2 2 2 2 2 2 2 2 2 2 2 2 2 2\n",
      " 2 2 2 2 2 2 2 2 2 2 2 2 2 2 2 2 2 2 2 2 2 2 2 2 2 2 2 2 2 2 2 2 2 2 2 2 2\n",
      " 2 2 2 2 2 2 2 2 2 2 2 2 2 2 2 2 2 2 2 2 2 2 2 2 2 2 2 2 2 2 2]\n"
     ]
    }
   ],
   "source": [
    "# Make predictions on the test dataset\n",
    "predictions = model.predict(test_generator)\n",
    "\n",
    "# Convert predictions to class labels\n",
    "predicted_classes = np.argmax(predictions, axis=1)\n",
    "\n",
    "# Print predicted classes\n",
    "print(\"Predicted classes:\", predicted_classes)\n"
   ]
  },
  {
   "cell_type": "markdown",
   "id": "d9681207",
   "metadata": {},
   "source": [
    "#### Interpretation of Model Prediction on validation (test data)\n",
    "\n",
    "Predicted Classes: The array [2, 2, 2, 2, ...] suggests that every image in the test set is classified as class 2. \n",
    "\n",
    "This could imply:\n",
    "\n",
    "- Model Limitations: The model may not have learned the distinguishing features of the other classes, resulting in it defaulting to predicting the most frequent class.\n",
    "\n",
    "- Underfitting: The model might be too simple to capture the complexity of the data. I thought this could happen since the dataset includes images from different planes (sagittal, transverse, coronal).\n",
    "\n",
    "- There could have been an issue when attempting to balance the classes. "
   ]
  },
  {
   "cell_type": "markdown",
   "id": "33558b38",
   "metadata": {},
   "source": [
    "### Visualizing Results"
   ]
  },
  {
   "cell_type": "code",
   "execution_count": 19,
   "id": "a9605bab",
   "metadata": {},
   "outputs": [
    {
     "data": {
      "image/png": "[encoded data removed]",
      "text/plain": [
       "<Figure size 1200x600 with 2 Axes>"
      ]
     },
     "metadata": {},
     "output_type": "display_data"
    }
   ],
   "source": [
    "\n",
    "# Plot training & validation accuracy and loss values\n",
    "epochs = range(1, len(history.history['accuracy']) + 1)\n",
    "\n",
    "# Plot Accuracy\n",
    "plt.figure(figsize=(12, 6))\n",
    "plt.subplot(1, 2, 1)\n",
    "plt.plot(epochs, history.history['accuracy'], label='Training Accuracy')\n",
    "plt.plot(epochs, history.history['val_accuracy'], label='Validation Accuracy')\n",
    "plt.title('Training and Validation Accuracy')\n",
    "plt.xlabel('Epochs')\n",
    "plt.ylabel('Accuracy')\n",
    "plt.legend()\n",
    "\n",
    "# Plot Loss\n",
    "plt.subplot(1, 2, 2)\n",
    "plt.plot(epochs, history.history['loss'], label='Training Loss')\n",
    "plt.plot(epochs, history.history['val_loss'], label='Validation Loss')\n",
    "plt.title('Training and Validation Loss')\n",
    "plt.xlabel('Epochs')\n",
    "plt.ylabel('Loss')\n",
    "plt.legend()\n",
    "\n",
    "plt.show()\n"
   ]
  },
  {
   "cell_type": "markdown",
   "id": "e62a9717",
   "metadata": {},
   "source": [
    "## Conclusion"
   ]
  },
  {
   "cell_type": "markdown",
   "id": "3c7d7288",
   "metadata": {},
   "source": [
    "In this project, I built and CNN model using pre-trained MobileNet to classify MRI brain tumor images. The model was trained with transfer learning and regularization techniques to improve performance, but despite achieving 98.3% accuracy on the training data, the validation performance was significantly lower, with a validation accuracy fluctuating between 19.5% and 48.1% across the epochs.\n",
    "\n",
    "This wide gap between training and validation accuracy strongly indicates overfitting. While the model was able to memorize the training data, it struggled to generalize to unseen validation data. The following factors may have contributed to this result:\n",
    "\n",
    "- Data Complexity: \n",
    "\n",
    "The dataset included images from different planes (sagittal, transverse, coronal), which may have added complexity, making it harder for the model to generalize.\n",
    "\n",
    "- Class Imbalance: The distribution of classes in the training data was imbalanced, possibly skewing the model toward predicting the majority class. Although I attempted to weight the classes, it seems this method was not enough.\n",
    "\n",
    "\n",
    "- Limited Validation Accuracy:\n",
    "\n",
    "The validation accuracy plateaued at 48.1%, indicating the model failed to capture meaningful patterns for the other classes, as shown by misclassifications and a bias towards predicting class 2 in most cases.\n",
    "\n",
    "- Areas for Improvement\n",
    "\n",
    "To enhance the model's performance, I would:\n",
    "\n",
    "\n",
    "Data Augmentation: I could incorporate more diverse data augmentation techniques to better represent variations within the training data and help prevent overfitting.\n",
    "Hyperparameter Tuning: Experimenting with learning rates, batch sizes, and dropout rates could improve generalization.\n",
    "Regularization and Model Architecture: Exploring a VGG16 pre trained model might reduce overfitting.\n"
   ]
  },
  {
   "cell_type": "code",
   "execution_count": null,
   "id": "a5a79505",
   "metadata": {},
   "outputs": [],
   "source": []
  }
 ],
 "metadata": {
  "kernelspec": {
   "display_name": "Python 3 (ipykernel)",
   "language": "python",
   "name": "python3"
  },
  "language_info": {
   "codemirror_mode": {
    "name": "ipython",
    "version": 3
   },
   "file_extension": ".py",
   "mimetype": "text/x-python",
   "name": "python",
   "nbconvert_exporter": "python",
   "pygments_lexer": "ipython3",
   "version": "3.11.5"
  }
 },
 "nbformat": 4,
 "nbformat_minor": 5
}
